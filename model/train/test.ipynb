{
 "cells": [
  {
   "cell_type": "code",
   "execution_count": 1,
   "metadata": {},
   "outputs": [],
   "source": [
    "import json\n",
    "\n",
    "career = json.load(open('/home/luungoc/BTL-2023.1/Data Science/Crawl_IT_jobs/careerbuilder_job.json', 'r'))\n",
    "devwork = json.load(open('/home/luungoc/BTL-2023.1/Data Science/Crawl_IT_jobs/devwork.json', 'r'))\n",
    "itjobs = json.load(open('/home/luungoc/BTL-2023.1/Data Science/Crawl_IT_jobs/itjobs.json', 'r'))\n",
    "jobsgo = json.load(open('/home/luungoc/BTL-2023.1/Data Science/Crawl_IT_jobs/jobsgo_job.json', 'r'))"
   ]
  },
  {
   "cell_type": "code",
   "execution_count": null,
   "metadata": {},
   "outputs": [],
   "source": [
    "career_new = []\n",
    "devworker_new = []\n",
    "itjobs_new = []\n",
    "jobsgo_new = []\n",
    "\n",
    "\n",
    "for item in career:\n",
    "    career_new.append({\n",
    "        'keyword': \n",
    "        'job_name': \n",
    "        \"requirements\":\n",
    "        \"salary\":\n",
    "        \"offer\":\n",
    "        \"location\":\n",
    "        \"company\": \n",
    "        \"from\": 'career'\n",
    "    })"
   ]
  }
 ],
 "metadata": {
  "kernelspec": {
   "display_name": "Python 3",
   "language": "python",
   "name": "python3"
  },
  "language_info": {
   "codemirror_mode": {
    "name": "ipython",
    "version": 3
   },
   "file_extension": ".py",
   "mimetype": "text/x-python",
   "name": "python",
   "nbconvert_exporter": "python",
   "pygments_lexer": "ipython3",
   "version": "3.11.4"
  }
 },
 "nbformat": 4,
 "nbformat_minor": 2
}
